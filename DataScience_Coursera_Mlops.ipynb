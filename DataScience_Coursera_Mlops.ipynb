{
 "cells": [
  {
   "cell_type": "code",
   "execution_count": 1,
   "metadata": {},
   "outputs": [
    {
     "name": "stdout",
     "output_type": "stream",
     "text": [
      "Dependencies Imported\n"
     ]
    }
   ],
   "source": [
    "import numpy as np\n",
    "import pandas as pd\n",
    "import matplotlib.pyplot as plt\n",
    "import seaborn as sns\n",
    "print('Dependencies Imported')"
   ]
  },
  {
   "cell_type": "code",
   "execution_count": 2,
   "metadata": {},
   "outputs": [
    {
     "data": {
      "text/html": [
       "<div>\n",
       "<style scoped>\n",
       "    .dataframe tbody tr th:only-of-type {\n",
       "        vertical-align: middle;\n",
       "    }\n",
       "\n",
       "    .dataframe tbody tr th {\n",
       "        vertical-align: top;\n",
       "    }\n",
       "\n",
       "    .dataframe thead th {\n",
       "        text-align: right;\n",
       "    }\n",
       "</style>\n",
       "<table border=\"1\" class=\"dataframe\">\n",
       "  <thead>\n",
       "    <tr style=\"text-align: right;\">\n",
       "      <th></th>\n",
       "      <th>Course Name</th>\n",
       "      <th>Difficulty Level</th>\n",
       "      <th>Course Rating</th>\n",
       "      <th>Course Description</th>\n",
       "      <th>Skills</th>\n",
       "    </tr>\n",
       "  </thead>\n",
       "  <tbody>\n",
       "    <tr>\n",
       "      <th>0</th>\n",
       "      <td>Write A Feature Length Screenplay For Film Or ...</td>\n",
       "      <td>Beginner</td>\n",
       "      <td>4.8</td>\n",
       "      <td>Write a Full Length Feature Film Script  In th...</td>\n",
       "      <td>Drama  Comedy  peering  screenwriting  film  D...</td>\n",
       "    </tr>\n",
       "    <tr>\n",
       "      <th>1</th>\n",
       "      <td>Business Strategy: Business Model Canvas Analy...</td>\n",
       "      <td>Beginner</td>\n",
       "      <td>4.8</td>\n",
       "      <td>By the end of this guided project, you will be...</td>\n",
       "      <td>Finance  business plan  persona (user experien...</td>\n",
       "    </tr>\n",
       "    <tr>\n",
       "      <th>2</th>\n",
       "      <td>Silicon Thin Film Solar Cells</td>\n",
       "      <td>Advanced</td>\n",
       "      <td>4.1</td>\n",
       "      <td>This course consists of a general presentation...</td>\n",
       "      <td>chemistry  physics  Solar Energy  film  lambda...</td>\n",
       "    </tr>\n",
       "    <tr>\n",
       "      <th>3</th>\n",
       "      <td>Finance for Managers</td>\n",
       "      <td>Intermediate</td>\n",
       "      <td>4.8</td>\n",
       "      <td>When it comes to numbers, there is always more...</td>\n",
       "      <td>accounts receivable  dupont analysis  analysis...</td>\n",
       "    </tr>\n",
       "    <tr>\n",
       "      <th>4</th>\n",
       "      <td>Retrieve Data using Single-Table SQL Queries</td>\n",
       "      <td>Beginner</td>\n",
       "      <td>4.6</td>\n",
       "      <td>In this course you�ll learn how to effectively...</td>\n",
       "      <td>Data Analysis  select (sql)  database manageme...</td>\n",
       "    </tr>\n",
       "  </tbody>\n",
       "</table>\n",
       "</div>"
      ],
      "text/plain": [
       "                                         Course Name Difficulty Level  \\\n",
       "0  Write A Feature Length Screenplay For Film Or ...         Beginner   \n",
       "1  Business Strategy: Business Model Canvas Analy...         Beginner   \n",
       "2                      Silicon Thin Film Solar Cells         Advanced   \n",
       "3                               Finance for Managers     Intermediate   \n",
       "4       Retrieve Data using Single-Table SQL Queries         Beginner   \n",
       "\n",
       "  Course Rating                                 Course Description  \\\n",
       "0           4.8  Write a Full Length Feature Film Script  In th...   \n",
       "1           4.8  By the end of this guided project, you will be...   \n",
       "2           4.1  This course consists of a general presentation...   \n",
       "3           4.8  When it comes to numbers, there is always more...   \n",
       "4           4.6  In this course you�ll learn how to effectively...   \n",
       "\n",
       "                                              Skills  \n",
       "0  Drama  Comedy  peering  screenwriting  film  D...  \n",
       "1  Finance  business plan  persona (user experien...  \n",
       "2  chemistry  physics  Solar Energy  film  lambda...  \n",
       "3  accounts receivable  dupont analysis  analysis...  \n",
       "4  Data Analysis  select (sql)  database manageme...  "
      ]
     },
     "execution_count": 2,
     "metadata": {},
     "output_type": "execute_result"
    }
   ],
   "source": [
    "data = pd.read_csv(\"Coursera.csv\")\n",
    "data=data[['Course Name','Difficulty Level','Course Rating','Course Description','Skills']]\n",
    "data.head(5)"
   ]
  },
  {
   "cell_type": "code",
   "execution_count": 3,
   "metadata": {},
   "outputs": [],
   "source": [
    "# Convert course_rating columns to float\n",
    "data['Course Rating'] = pd.to_numeric(data['Course Rating'], errors='coerce')"
   ]
  },
  {
   "cell_type": "code",
   "execution_count": 4,
   "metadata": {},
   "outputs": [
    {
     "data": {
      "text/html": [
       "<div>\n",
       "<style scoped>\n",
       "    .dataframe tbody tr th:only-of-type {\n",
       "        vertical-align: middle;\n",
       "    }\n",
       "\n",
       "    .dataframe tbody tr th {\n",
       "        vertical-align: top;\n",
       "    }\n",
       "\n",
       "    .dataframe thead th {\n",
       "        text-align: right;\n",
       "    }\n",
       "</style>\n",
       "<table border=\"1\" class=\"dataframe\">\n",
       "  <thead>\n",
       "    <tr style=\"text-align: right;\">\n",
       "      <th></th>\n",
       "      <th>Course Name</th>\n",
       "      <th>Difficulty Level</th>\n",
       "      <th>Course Description</th>\n",
       "      <th>Skills</th>\n",
       "    </tr>\n",
       "  </thead>\n",
       "  <tbody>\n",
       "    <tr>\n",
       "      <th>0</th>\n",
       "      <td>Write A Feature Length Screenplay For Film Or ...</td>\n",
       "      <td>Beginner</td>\n",
       "      <td>Write a Full Length Feature Film Script  In th...</td>\n",
       "      <td>Drama  Comedy  peering  screenwriting  film  D...</td>\n",
       "    </tr>\n",
       "    <tr>\n",
       "      <th>1</th>\n",
       "      <td>Business Strategy: Business Model Canvas Analy...</td>\n",
       "      <td>Beginner</td>\n",
       "      <td>By the end of this guided project, you will be...</td>\n",
       "      <td>Finance  business plan  persona (user experien...</td>\n",
       "    </tr>\n",
       "    <tr>\n",
       "      <th>2</th>\n",
       "      <td>Silicon Thin Film Solar Cells</td>\n",
       "      <td>Advanced</td>\n",
       "      <td>This course consists of a general presentation...</td>\n",
       "      <td>chemistry  physics  Solar Energy  film  lambda...</td>\n",
       "    </tr>\n",
       "    <tr>\n",
       "      <th>3</th>\n",
       "      <td>Finance for Managers</td>\n",
       "      <td>Intermediate</td>\n",
       "      <td>When it comes to numbers, there is always more...</td>\n",
       "      <td>accounts receivable  dupont analysis  analysis...</td>\n",
       "    </tr>\n",
       "    <tr>\n",
       "      <th>4</th>\n",
       "      <td>Retrieve Data using Single-Table SQL Queries</td>\n",
       "      <td>Beginner</td>\n",
       "      <td>In this course you�ll learn how to effectively...</td>\n",
       "      <td>Data Analysis  select (sql)  database manageme...</td>\n",
       "    </tr>\n",
       "  </tbody>\n",
       "</table>\n",
       "</div>"
      ],
      "text/plain": [
       "                                         Course Name Difficulty Level  \\\n",
       "0  Write A Feature Length Screenplay For Film Or ...         Beginner   \n",
       "1  Business Strategy: Business Model Canvas Analy...         Beginner   \n",
       "2                      Silicon Thin Film Solar Cells         Advanced   \n",
       "3                               Finance for Managers     Intermediate   \n",
       "4       Retrieve Data using Single-Table SQL Queries         Beginner   \n",
       "\n",
       "                                  Course Description  \\\n",
       "0  Write a Full Length Feature Film Script  In th...   \n",
       "1  By the end of this guided project, you will be...   \n",
       "2  This course consists of a general presentation...   \n",
       "3  When it comes to numbers, there is always more...   \n",
       "4  In this course you�ll learn how to effectively...   \n",
       "\n",
       "                                              Skills  \n",
       "0  Drama  Comedy  peering  screenwriting  film  D...  \n",
       "1  Finance  business plan  persona (user experien...  \n",
       "2  chemistry  physics  Solar Energy  film  lambda...  \n",
       "3  accounts receivable  dupont analysis  analysis...  \n",
       "4  Data Analysis  select (sql)  database manageme...  "
      ]
     },
     "execution_count": 4,
     "metadata": {},
     "output_type": "execute_result"
    }
   ],
   "source": [
    "data = data[['Course Name','Difficulty Level','Course Description','Skills']]\n",
    "data.head(5)"
   ]
  },
  {
   "cell_type": "code",
   "execution_count": 7,
   "metadata": {},
   "outputs": [
    {
     "name": "stdout",
     "output_type": "stream",
     "text": [
      "Recommended Courses: ['HTML and CSS: Building a Single-Page Website', 'Responsive Website Basics: Code with HTML, CSS, and JavaScript', 'Build Your Portfolio Website with HTML and CSS', 'Getting Started with Cascading Style Sheet']\n"
     ]
    }
   ],
   "source": [
    "import pandas as pd\n",
    "from sklearn.model_selection import train_test_split\n",
    "from sklearn.feature_extraction.text import TfidfVectorizer\n",
    "from sklearn.neighbors import NearestNeighbors\n",
    "\n",
    "# Combine course name and description into a single text column for vectorization\n",
    "data['combined'] = data['Course Name'] + ' ' + data['Course Description'] + ' ' + data['Skills']\n",
    "\n",
    "# Initialize the TF-IDF Vectorizer to convert text data into numerical format\n",
    "tfidf_vectorizer = TfidfVectorizer()\n",
    "\n",
    "# Fit and transform the combined text data to create a TF-IDF matrix\n",
    "X = tfidf_vectorizer.fit_transform(data['combined'])\n",
    "\n",
    "# Initialize the Nearest Neighbors model\n",
    "model = NearestNeighbors(n_neighbors=4, metric='euclidean') \n",
    "\n",
    "model.fit(X)\n",
    "\n",
    "def recommend_courses(course_name):\n",
    "    \"\"\"\n",
    "    Recommend courses based on the input course name using Nearest Neighbors.\n",
    "\n",
    "    Parameters:\n",
    "    course_name (str): The name of the course for which recommendations are to be made.\n",
    "\n",
    "    Returns:\n",
    "    list: A list of recommended course names based on similarity.\n",
    "    \"\"\"\n",
    "    # Transform the input course name into the TF-IDF format\n",
    "    course_vector = tfidf_vectorizer.transform([course_name])\n",
    "\n",
    "    # Find the nearest neighbors for the input course vector\n",
    "    distances, indices = model.kneighbors(course_vector)\n",
    "\n",
    "    # Extract recommended course names based on the indices of nearest neighbors\n",
    "    recommended_courses = []\n",
    "    for index in indices[0]:\n",
    "        recommended_courses.append(data.iloc[index]['Course Name'])\n",
    "\n",
    "    return recommended_courses\n",
    "\n",
    "# Example usage\n",
    "if __name__ == \"__main__\":\n",
    "    # Define a course name to get recommendations for\n",
    "    course_to_predict = 'HTML & CSS'\n",
    "\n",
    "    # Get recommended courses based on the specified course\n",
    "    recommendations = recommend_courses(course_to_predict)\n",
    "\n",
    "    # Print the recommended courses\n",
    "    print(\"Recommended Courses:\", recommendations)\n"
   ]
  },
  {
   "cell_type": "code",
   "execution_count": 8,
   "metadata": {},
   "outputs": [
    {
     "name": "stdout",
     "output_type": "stream",
     "text": [
      "Recommended Courses: ['Python Data Analysis', 'Python Data Representations', 'Python Programming Essentials', 'Python Data Structures']\n",
      "Precision: 0.75\n"
     ]
    }
   ],
   "source": [
    "def evaluate_recommendations(test_courses, recommended_courses):\n",
    "    \"\"\"\n",
    "    Evaluate the recommendations using precision and recall.\n",
    "\n",
    "    Parameters:\n",
    "    test_courses (list): The actual relevant courses that the user liked.\n",
    "    recommended_courses (list): The courses recommended by the model.\n",
    "\n",
    "    Returns:\n",
    "    tuple: Precision and Recall scores.\n",
    "    \"\"\"\n",
    "    # Convert the lists to sets for easy comparison\n",
    "    true_set = set(test_courses)\n",
    "    recommended_set = set(recommended_courses)\n",
    "\n",
    "    # Calculate True Positives: Relevant courses that were recommended\n",
    "    true_positives = len(true_set & recommended_set)\n",
    "\n",
    "    # Precision: The ratio of true positives to the total number of recommended courses\n",
    "    precision = true_positives / len(recommended_set) if recommended_set else 0\n",
    "\n",
    "    return precision\n",
    "\n",
    "# Example usage\n",
    "actual_courses = [\n",
    "    'Python Basics', \n",
    "    'Python Data Analysis', \n",
    "    'Python Programming Essentials',\n",
    "    'Python Data Representations'\n",
    "]\n",
    "\n",
    "# Get recommendations for a course (e.g., 'HTML & CSS')\n",
    "predicted_courses = recommend_courses('Python')\n",
    "\n",
    "# Print recommended courses\n",
    "print(\"Recommended Courses:\", predicted_courses)\n",
    "\n",
    "# Evaluate the recommendations\n",
    "precision = evaluate_recommendations(actual_courses, predicted_courses)\n",
    "\n",
    "# Print the precision and recall scores\n",
    "print(f\"Precision: {precision:.2f}\")"
   ]
  },
  {
   "cell_type": "code",
   "execution_count": 10,
   "metadata": {},
   "outputs": [
    {
     "name": "stderr",
     "output_type": "stream",
     "text": [
      "2024/10/28 12:04:00 WARNING mlflow.sklearn: Model was missing function: predict. Not logging python_function flavor!\n",
      "2024/10/28 12:04:14 WARNING mlflow.models.model: Model logged without a signature and input example. Please set `input_example` parameter when logging the model to auto infer the model signature.\n",
      "2024/10/28 12:04:14 INFO mlflow.tracking._tracking_service.client: 🏃 View run KNN Algorithm at: http://127.0.0.1:5000/#/experiments/725882505928502647/runs/5f3b8b433d0444e7a2e1d8a92fb5d043.\n",
      "2024/10/28 12:04:14 INFO mlflow.tracking._tracking_service.client: 🧪 View experiment at: http://127.0.0.1:5000/#/experiments/725882505928502647.\n"
     ]
    }
   ],
   "source": [
    "import mlflow\n",
    "mlflow.set_experiment(\"Learning Path Recommendation\")\n",
    "mlflow.set_tracking_uri('http://127.0.0.1:5000/')\n",
    "\n",
    "with mlflow.start_run(run_name=\"KNN Algorithm\"):\n",
    "    mlflow.log_params({\n",
    "        \"n_neighbors\": 4, \n",
    "        \"metric\": 'euclidean'\n",
    "    })\n",
    "    mlflow.log_metric('Precision', precision) # type: ignore\n",
    "    mlflow.sklearn.log_model(model, \"KNN recommendation model\")"
   ]
  },
  {
   "cell_type": "code",
   "execution_count": 11,
   "metadata": {},
   "outputs": [
    {
     "name": "stderr",
     "output_type": "stream",
     "text": [
      "Successfully registered model 'KNN recommendation model'.\n",
      "2024/10/28 12:05:58 INFO mlflow.store.model_registry.abstract_store: Waiting up to 300 seconds for model version to finish creation. Model name: KNN recommendation model, version 1\n",
      "Created version '1' of model 'KNN recommendation model'.\n"
     ]
    },
    {
     "data": {
      "text/plain": [
       "<ModelVersion: aliases=[], creation_timestamp=1730097358072, current_stage='None', description='', last_updated_timestamp=1730097358072, name='KNN recommendation model', run_id='5f3b8b433d0444e7a2e1d8a92fb5d043', run_link='', source=('file:///c:/Users/AkhilKumar/Tasks/FinalProject%20DE/DataScience/mlruns/725882505928502647/5f3b8b433d0444e7a2e1d8a92fb5d043/artifacts/KNN '\n",
       " 'recommendation model'), status='READY', status_message='', tags={}, user_id='', version='1'>"
      ]
     },
     "execution_count": 11,
     "metadata": {},
     "output_type": "execute_result"
    }
   ],
   "source": [
    "model_uri = 'runs:/5f3b8b433d0444e7a2e1d8a92fb5d043/KNN recommendation model'\n",
    "mlflow.register_model(model_uri,\"KNN recommendation model\")"
   ]
  },
  {
   "cell_type": "code",
   "execution_count": 12,
   "metadata": {},
   "outputs": [
    {
     "name": "stderr",
     "output_type": "stream",
     "text": [
      "Successfully registered model 'KNN recommendation model_Production'.\n",
      "Copied version '1' of model 'KNN recommendation model' to version '1' of model 'KNN recommendation model_Production'.\n"
     ]
    },
    {
     "data": {
      "text/plain": [
       "<ModelVersion: aliases=[], creation_timestamp=1730097404009, current_stage='None', description='', last_updated_timestamp=1730097404009, name='KNN recommendation model_Production', run_id='5f3b8b433d0444e7a2e1d8a92fb5d043', run_link='', source='models:/KNN recommendation model/1', status='READY', status_message='', tags={}, user_id='', version='1'>"
      ]
     },
     "execution_count": 12,
     "metadata": {},
     "output_type": "execute_result"
    }
   ],
   "source": [
    "model_name=\"KNN recommendation model\"\n",
    "dev_model_uri=f'models:/{model_name}@challenger'\n",
    "prod_model='KNN recommendation model_Production'\n",
    "  \n",
    "client=mlflow.MlflowClient()\n",
    "client.copy_model_version(src_model_uri=dev_model_uri,dst_name=prod_model)"
   ]
  },
  {
   "cell_type": "code",
   "execution_count": 17,
   "metadata": {},
   "outputs": [
    {
     "data": {
      "text/plain": [
       "['HTML and CSS: Building a Single-Page Website',\n",
       " 'Quick resumeCreator with JavaScript',\n",
       " 'Responsive Website Basics: Code with HTML, CSS, and JavaScript',\n",
       " 'Build Your Portfolio Website with HTML and CSS']"
      ]
     },
     "execution_count": 17,
     "metadata": {},
     "output_type": "execute_result"
    }
   ],
   "source": [
    "m2 = mlflow.sklearn.load_model(f'models:/{prod_model}@champion')\n",
    "recommendations = recommend_courses(\"html\")\n",
    "recommendations"
   ]
  }
 ],
 "metadata": {
  "kernelspec": {
   "display_name": "ds",
   "language": "python",
   "name": "python3"
  },
  "language_info": {
   "codemirror_mode": {
    "name": "ipython",
    "version": 3
   },
   "file_extension": ".py",
   "mimetype": "text/x-python",
   "name": "python",
   "nbconvert_exporter": "python",
   "pygments_lexer": "ipython3",
   "version": "3.12.4"
  }
 },
 "nbformat": 4,
 "nbformat_minor": 2
}
